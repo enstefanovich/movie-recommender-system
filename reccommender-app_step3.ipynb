{
 "cells": [
  {
   "cell_type": "markdown",
   "id": "2109e655-56da-4e13-bd05-ce72e2588780",
   "metadata": {},
   "source": [
    "# Recommender Application\n",
    "This notebook contains the implementation of the recommender application. It imports the recommender algorithm and assumes the model has already been trained with a dataset. "
   ]
  },
  {
   "cell_type": "markdown",
   "id": "1776fd3d-e553-4ab4-85b3-6c025e930840",
   "metadata": {},
   "source": [
    "The libraries required to run this application are:\n",
    "- tkinter\n",
    "- pandas\n",
    "- recommender3 (custom library)"
   ]
  },
  {
   "cell_type": "code",
   "execution_count": 3,
   "id": "d48e32ef-870b-4af7-82e0-a4c7c334d51c",
   "metadata": {},
   "outputs": [],
   "source": [
    "#import recommender algorithm and UI libraries\n",
    "import tkinter as tk\n",
    "from tkinter import ttk\n",
    "import pandas as pd\n",
    "from recommender3 import create_user_review_matrix, recommend_movies, update_reviews"
   ]
  },
  {
   "cell_type": "markdown",
   "id": "1d4a229d-8d42-4162-83c6-1981c4fcf7d1",
   "metadata": {},
   "source": [
    "We need to load the below datasets to be used when initializing the application and as required for recommender3 library methods:\n",
    "- clean_movies_id_appended.csv\n",
    "- movies_preprocessed.csv'\n",
    "- user_reviews_200moviesplus.csv\n",
    "- clean_movies_id_appended.csv"
   ]
  },
  {
   "cell_type": "code",
   "execution_count": 5,
   "id": "722024a8-7a0b-4b7c-beb7-de14423bf382",
   "metadata": {},
   "outputs": [],
   "source": [
    "#load data\n",
    "data = pd.read_csv('clean_movies_id_appended.csv', header = 0)\n",
    "movie_features = pd.read_csv('movies_preprocessed.csv', index_col='movieId')\n",
    "reviews = pd.read_csv('user_reviews_200moviesplus.csv')\n",
    "movie_titles = pd.read_csv('clean_movies_id_appended.csv', usecols=['movieId', 'original_title'], index_col='movieId')"
   ]
  },
  {
   "cell_type": "markdown",
   "id": "3b3c97c6-80c1-42cd-80a2-9943dcef82a3",
   "metadata": {},
   "source": [
    "These properties will be used to intialize and run the MovieRecommender application. **Update the newUserId** each time you run the app. "
   ]
  },
  {
   "cell_type": "code",
   "execution_count": 7,
   "id": "9b874ce5-d178-420a-8d9e-0f05044605fb",
   "metadata": {},
   "outputs": [],
   "source": [
    "#properties to be used in MovieRecommender class initialization\n",
    "titles = data['original_title']\n",
    "movieIdList = data['movieId']\n",
    "newUserId = 1362"
   ]
  },
  {
   "cell_type": "markdown",
   "id": "9e274d98-069d-4fd1-9a49-94f0767a7e95",
   "metadata": {},
   "source": [
    "In the next 3 sections, we are defining the 3 main python classes needed to build and run the application\n",
    "- Rating: used to store an individual user rating\n",
    "- UserProfile: represents a user and the list of ratings associated with them\n",
    "- MovieRecommender: the core application class with functionality to submit a rating and display recommendations"
   ]
  },
  {
   "cell_type": "code",
   "execution_count": 9,
   "id": "1ff0bc52-62a5-45eb-b2b8-e25bad649ef6",
   "metadata": {},
   "outputs": [],
   "source": [
    "#Rating Class\n",
    "class Rating:\n",
    "    \n",
    "    def __init__(self, movie, score):\n",
    "        self.userId = newUserId\n",
    "        self.movie = movie\n",
    "        self.score = score"
   ]
  },
  {
   "cell_type": "code",
   "execution_count": 10,
   "id": "ae0700e7-573f-433e-9f1b-f3c0f2f3afe9",
   "metadata": {},
   "outputs": [],
   "source": [
    "#UserProfile class\n",
    "class UserProfile:\n",
    "    \n",
    "    def __init__(self):\n",
    "        self.ratings = []\n",
    "\n",
    "    def addRating(self, movieRating):\n",
    "        self.ratings.append(movieRating)\n",
    "        update_reviews(dict([(movieRating.movie, (movieRating.userId, movieRating.score))]))\n",
    "                \n",
    "    def displayRatings(self):\n",
    "        for rating in self.ratings:\n",
    "            print(f\"{rating.movie} {rating.score}\")"
   ]
  },
  {
   "cell_type": "code",
   "execution_count": 11,
   "id": "7261917d-6f98-42c6-8e63-27a45d2aeab3",
   "metadata": {},
   "outputs": [],
   "source": [
    "# Recommender Class\n",
    "class MovieRecommender:\n",
    "    \n",
    "    def __init__(self, root, movieNames, movieIds):\n",
    "        #initialize base variables\n",
    "        self.root = root\n",
    "        self.root.title('Movie Recommendation App')\n",
    "        self.root.geometry(\"1200x800\")\n",
    "        self.user = UserProfile()\n",
    "        self.sampleData = movieNames\n",
    "        self.movieIds = movieIds\n",
    "\n",
    "        #add greeting message at the top of the app\n",
    "        self.helloLabel = tk.Label(root, text=\"Hello user! Welcome to the movie recommender app\", \n",
    "                                   font=(\"Arial\", 14))\n",
    "        self.helloLabel.pack(pady=10)\n",
    "\n",
    "        #add functionality to display movie title and ask for a rating\n",
    "        self.totalRated = 0\n",
    "        self.ratingsRemainingLabel = tk.Label(root, text=f\"Ratings Remaining: {10 - self.totalRated}\")\n",
    "        self.ratingsRemainingLabel.pack(pady=10)\n",
    "        \n",
    "        self.currentMovie = 0\n",
    "        self.movieLabel = tk.Label(root, \n",
    "                                   text=f\"Rate the following movie: \\n {self.sampleData[self.currentMovie]}\")\n",
    "        self.movieLabel.pack(pady=10)\n",
    "\n",
    "        #add a rating scale of 1 - 5\n",
    "        self.ratingScaleFrame = tk.Frame(root)\n",
    "        self.ratingScaleFrame.pack(pady=10, fill=\"x\", padx=40)\n",
    "        \n",
    "        self.minRatingLabel = tk.Label(self.ratingScaleFrame, text=\"1\\nPoor\")\n",
    "        self.minRatingLabel.pack(side=\"left\")\n",
    "        \n",
    "        self.movieRating = tk.DoubleVar(value=3)\n",
    "        self.currentRatingLabel = tk.Label(root, \n",
    "                                   text=f\"Current Rating: \\n {self.movieRating}\")\n",
    "        self.currentRatingLabel.pack(pady=10)\n",
    "        \n",
    "        self.ratingScale = ttk.Scale(\n",
    "            self.ratingScaleFrame,\n",
    "            from_=1,\n",
    "            to=5,\n",
    "            orient=\"horizontal\",\n",
    "            variable=self.movieRating,\n",
    "            length=20,\n",
    "            command=self.onRatingChange\n",
    "        )\n",
    "        self.ratingScale.set(3)\n",
    "        self.ratingScale.pack(side=\"left\", padx=10, fill=\"x\", expand=True)\n",
    "        \n",
    "        self.maxRatingLabel = tk.Label(self.ratingScaleFrame, text=\"5\\nExcellent\")\n",
    "        self.maxRatingLabel.pack(side=\"right\")\n",
    "\n",
    "        #skip movie button\n",
    "        self.skipButton = tk.Button(root, text=\"Skip\", command=self.onSkipButtonClick)\n",
    "        self.skipButton.pack(pady=10)\n",
    "\n",
    "        #submit rating button\n",
    "        self.submitButton = tk.Button(root, text=\"Submit\", command=self.onSubmitButtonClick)\n",
    "        self.submitButton.pack(pady=10)\n",
    "\n",
    "        #display movie recommendations\n",
    "        self.recommendationLabel = tk.Label(root, text=\"Here are your recommendations:\")\n",
    "        self.movieRecList = tk.Listbox(root, height=20, width=50)\n",
    "\n",
    "    #when the user clicks skip\n",
    "    #show the next movie or display recommendations if app is at the end of the movie list\n",
    "    def onSkipButtonClick(self):\n",
    "        if self.currentMovie < len(self.sampleData) - 1:\n",
    "            self.currentMovie+=1\n",
    "            self.movieLabel.config(text=f\"Rate the following movie: \\n {self.sampleData[self.currentMovie]}\")\n",
    "        else: \n",
    "            self.hideRatingShowRecs()\n",
    "            self.generateMovieRecs()\n",
    "\n",
    "    #when the user clicks submit\n",
    "    #show the next movie or display recommendations \n",
    "    #if app is at the end of the movie list or they have submitted 5 ratings\n",
    "    def onSubmitButtonClick(self): \n",
    "        newRating = Rating(self.movieIds[self.currentMovie], self.movieRating)\n",
    "        self.user.addRating(newRating)\n",
    "        self.totalRated+=1\n",
    "        if self.totalRated - 10 == 0:\n",
    "            self.hideRatingShowRecs()\n",
    "            self.generateMovieRecs()\n",
    "        elif self.currentMovie <= len(self.sampleData) - 1:\n",
    "            self.currentMovie+=1\n",
    "            self.movieLabel.config(text=f\"Rate the following movie: \\n {self.sampleData[self.currentMovie]}\")\n",
    "            self.ratingsRemainingLabel.config(text=f\"Ratings Remaining: {10 - self.totalRated}\")\n",
    "        else: \n",
    "            self.hideRatingShowRecs()\n",
    "            self.generateMovieRecs()\n",
    "\n",
    "    #ensure movie ratings are in increments of 0.5\n",
    "    def onRatingChange(self, val):\n",
    "        valAsFloat = float(val)\n",
    "        roundedToPoint5 = round(valAsFloat * 2)/2\n",
    "        self.movieRating = roundedToPoint5\n",
    "        self.currentRatingLabel.config(text=f\"Current Rating: \\n {self.movieRating}\")\n",
    "\n",
    "    #display recommendations from model\n",
    "    def showMovieRecs(self, recs):\n",
    "        for rec in recs:\n",
    "            movieIdIndex = list(self.movieIds).index(rec[0])\n",
    "            self.movieRecList.insert(tk.END, self.sampleData[movieIdIndex])\n",
    "        self.movieRecList.pack()\n",
    "\n",
    "    #get recommendations from model\n",
    "    def generateMovieRecs(self):\n",
    "        print(\"Generating Recommendations\")\n",
    "        reviews = pd.read_csv('user_reviews_200moviesplus.csv')\n",
    "        review_matrix = create_user_review_matrix(reviews, newUserId)\n",
    "        recs = recommend_movies(newUserId, movie_features, movie_titles, review_matrix, 20)\n",
    "        self.showMovieRecs(recs)\n",
    "\n",
    "    #hide rating prompt when recommendations are displayed\n",
    "    def hideRatingShowRecs(self):\n",
    "        self.skipButton.pack_forget()\n",
    "        self.movieLabel.pack_forget()\n",
    "        self.ratingsRemainingLabel.pack_forget()\n",
    "        self.ratingScaleFrame.pack_forget()\n",
    "        self.submitButton.pack_forget()\n",
    "        self.ratingScaleFrame.pack_forget()\n",
    "        self.currentRatingLabel.pack_forget()\n",
    "        self.recommendationLabel.pack(pady=10)\n",
    "    "
   ]
  },
  {
   "cell_type": "markdown",
   "id": "a3a32b4f-c8e6-4f7d-85a6-3afabb6f577b",
   "metadata": {},
   "source": [
    "Finally we can run the application with the below code snippet and the output contains the associated movieId and predicted rating for the user.\n",
    "\n",
    "Also note a UI quirk: When \"Here are your recommendations\" displays, you must click on the app again for the recommendation list to appear. "
   ]
  },
  {
   "cell_type": "code",
   "execution_count": 13,
   "id": "4969048c-30a4-4d6a-b271-7ff397829d8f",
   "metadata": {},
   "outputs": [
    {
     "name": "stdout",
     "output_type": "stream",
     "text": [
      "Generating Recommendations\n"
     ]
    },
    {
     "name": "stderr",
     "output_type": "stream",
     "text": [
      "/opt/anaconda3/lib/python3.12/site-packages/sklearn/base.py:493: UserWarning: X does not have valid feature names, but NearestNeighbors was fitted with feature names\n",
      "  warnings.warn(\n"
     ]
    },
    {
     "name": "stdout",
     "output_type": "stream",
     "text": [
      "Movie: 4993, Rating: 4.478389354678479\n",
      "Movie: 7153, Rating: 4.433846422050134\n",
      "Movie: 5952, Rating: 4.387764999207432\n",
      "Movie: 60069, Rating: 4.268477790861767\n",
      "Movie: 114662, Rating: 4.257618031632741\n",
      "Movie: 58559, Rating: 4.207834152747284\n",
      "Movie: 45722, Rating: 4.174130082944875\n",
      "Movie: 8368, Rating: 4.123508648952141\n",
      "Movie: 98809, Rating: 4.116970227888996\n",
      "Movie: 54001, Rating: 4.099246636495145\n",
      "Movie: 59315, Rating: 4.050564124347248\n",
      "Movie: 106487, Rating: 4.042794748151508\n",
      "Movie: 79132, Rating: 4.036188346914965\n",
      "Movie: 40815, Rating: 4.032861343625565\n",
      "Movie: 106489, Rating: 4.025086772712558\n",
      "Movie: 6377, Rating: 4.006598821541164\n",
      "Movie: 110102, Rating: 4.004856537884529\n",
      "Movie: 135133, Rating: 4.00335353915706\n",
      "Movie: 5816, Rating: 3.999527505412597\n",
      "Movie: 134130, Rating: 3.963336403549016\n"
     ]
    }
   ],
   "source": [
    "#run application\n",
    "if __name__ == '__main__':\n",
    "    root = tk.Tk()\n",
    "    app = MovieRecommender(root, titles, movieIdList)\n",
    "    root.mainloop()"
   ]
  },
  {
   "cell_type": "code",
   "execution_count": null,
   "id": "a7849b17-9574-41df-b054-1921c6b6909e",
   "metadata": {},
   "outputs": [],
   "source": []
  }
 ],
 "metadata": {
  "kernelspec": {
   "display_name": "Python 3 (ipykernel)",
   "language": "python",
   "name": "python3"
  },
  "language_info": {
   "codemirror_mode": {
    "name": "ipython",
    "version": 3
   },
   "file_extension": ".py",
   "mimetype": "text/x-python",
   "name": "python",
   "nbconvert_exporter": "python",
   "pygments_lexer": "ipython3",
   "version": "3.12.4"
  }
 },
 "nbformat": 4,
 "nbformat_minor": 5
}
