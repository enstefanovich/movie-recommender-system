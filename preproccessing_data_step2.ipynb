{
 "cells": [
  {
   "cell_type": "markdown",
   "metadata": {},
   "source": [
    "Importing libraries and data"
   ]
  },
  {
   "cell_type": "code",
   "execution_count": 2,
   "metadata": {},
   "outputs": [],
   "source": [
    "import pandas as pd\n",
    "from sklearn.preprocessing import StandardScaler\n",
    "from sklearn.preprocessing import MultiLabelBinarizer"
   ]
  },
  {
   "cell_type": "code",
   "execution_count": 3,
   "metadata": {},
   "outputs": [],
   "source": [
    "clean_movies = pd.read_csv('clean_movie_data.csv')\n",
    "movies = pd.read_csv('movies.csv')"
   ]
  },
  {
   "cell_type": "markdown",
   "metadata": {},
   "source": [
    "Function to create a clean title"
   ]
  },
  {
   "cell_type": "code",
   "execution_count": 5,
   "metadata": {},
   "outputs": [],
   "source": [
    "import re\n",
    "import string\n",
    "\n",
    "def clean_title(title):\n",
    "    'This returns a string of a movie title with some regex to better parse names and deal with inconsistencies'\n",
    "    title = re.sub(r'\\s*\\(\\d{4}\\)$', '', title).strip().lower()\n",
    "    \n",
    "    match = re.match(r'(.+),\\s*(the|a|an)$', title)\n",
    "    if match:\n",
    "        title = f\"{match.group(2)} {match.group(1)}\"  # Move article to the front\n",
    "\n",
    "    title = title.translate(str.maketrans('', '', string.punctuation))\n",
    "\n",
    "    return title"
   ]
  },
  {
   "cell_type": "markdown",
   "metadata": {},
   "source": [
    "Merging the data to include the id associated with user reviews"
   ]
  },
  {
   "cell_type": "code",
   "execution_count": 7,
   "metadata": {},
   "outputs": [],
   "source": [
    "movies['clean_title'] = movies['title'].apply(clean_title)\n",
    "clean_movies['clean_title'] = clean_movies['original_title'].apply(clean_title)\n",
    "\n",
    "movies = movies.drop_duplicates(subset=['clean_title'], keep='first')   #Dropping duplicate titles\n",
    "clean_movies = clean_movies.merge(movies[['clean_title', 'movieId']], on = 'clean_title', how = 'left') #Joining the data on the clean title\n",
    "clean_movies = clean_movies.dropna(subset=['movieId'])  # Dropping rows that do not have a valid movie ID (Couldn't find a matching clean title)\n",
    "clean_movies['movieId'] = clean_movies['movieId'].fillna(0).astype(int) #converting to int\n",
    "\n",
    "\n",
    "clean_movies = clean_movies.drop(columns=['clean_title'])\n",
    "clean_movies = clean_movies.set_index('movieId')"
   ]
  },
  {
   "cell_type": "code",
   "execution_count": 8,
   "metadata": {},
   "outputs": [
    {
     "data": {
      "text/html": [
       "<div>\n",
       "<style scoped>\n",
       "    .dataframe tbody tr th:only-of-type {\n",
       "        vertical-align: middle;\n",
       "    }\n",
       "\n",
       "    .dataframe tbody tr th {\n",
       "        vertical-align: top;\n",
       "    }\n",
       "\n",
       "    .dataframe thead th {\n",
       "        text-align: right;\n",
       "    }\n",
       "</style>\n",
       "<table border=\"1\" class=\"dataframe\">\n",
       "  <thead>\n",
       "    <tr style=\"text-align: right;\">\n",
       "      <th></th>\n",
       "      <th>budget</th>\n",
       "      <th>genres</th>\n",
       "      <th>keywords</th>\n",
       "      <th>original_title</th>\n",
       "      <th>popularity</th>\n",
       "      <th>production_companies</th>\n",
       "      <th>release_date</th>\n",
       "      <th>revenue</th>\n",
       "      <th>runtime</th>\n",
       "      <th>vote_average</th>\n",
       "      <th>vote_count</th>\n",
       "      <th>production_ISO</th>\n",
       "      <th>spoken_ISO</th>\n",
       "      <th>release_year</th>\n",
       "      <th>release_month</th>\n",
       "      <th>release_day</th>\n",
       "      <th>revenue_imputed</th>\n",
       "    </tr>\n",
       "    <tr>\n",
       "      <th>movieId</th>\n",
       "      <th></th>\n",
       "      <th></th>\n",
       "      <th></th>\n",
       "      <th></th>\n",
       "      <th></th>\n",
       "      <th></th>\n",
       "      <th></th>\n",
       "      <th></th>\n",
       "      <th></th>\n",
       "      <th></th>\n",
       "      <th></th>\n",
       "      <th></th>\n",
       "      <th></th>\n",
       "      <th></th>\n",
       "      <th></th>\n",
       "      <th></th>\n",
       "      <th></th>\n",
       "    </tr>\n",
       "  </thead>\n",
       "  <tbody>\n",
       "    <tr>\n",
       "      <th>72998</th>\n",
       "      <td>237000000</td>\n",
       "      <td>Action, Adventure, Fantasy, Science Fiction</td>\n",
       "      <td>culture clash, future, space war, space colony...</td>\n",
       "      <td>Avatar</td>\n",
       "      <td>150.437577</td>\n",
       "      <td>Ingenious Film Partners, Twentieth Century Fox...</td>\n",
       "      <td>2009-12-10</td>\n",
       "      <td>2.787965e+09</td>\n",
       "      <td>162.0</td>\n",
       "      <td>7.2</td>\n",
       "      <td>11800</td>\n",
       "      <td>US, GB</td>\n",
       "      <td>en, es</td>\n",
       "      <td>2009.0</td>\n",
       "      <td>12.0</td>\n",
       "      <td>10.0</td>\n",
       "      <td>2.787965e+09</td>\n",
       "    </tr>\n",
       "    <tr>\n",
       "      <th>53125</th>\n",
       "      <td>300000000</td>\n",
       "      <td>Adventure, Fantasy, Action</td>\n",
       "      <td>ocean, drug abuse, exotic island, east india t...</td>\n",
       "      <td>Pirates of the Caribbean: At World's End</td>\n",
       "      <td>139.082615</td>\n",
       "      <td>Walt Disney Pictures, Jerry Bruckheimer Films,...</td>\n",
       "      <td>2007-05-19</td>\n",
       "      <td>9.610000e+08</td>\n",
       "      <td>169.0</td>\n",
       "      <td>6.9</td>\n",
       "      <td>4500</td>\n",
       "      <td>US</td>\n",
       "      <td>en</td>\n",
       "      <td>2007.0</td>\n",
       "      <td>5.0</td>\n",
       "      <td>19.0</td>\n",
       "      <td>9.610000e+08</td>\n",
       "    </tr>\n",
       "    <tr>\n",
       "      <th>136020</th>\n",
       "      <td>245000000</td>\n",
       "      <td>Action, Adventure, Crime</td>\n",
       "      <td>spy, based on novel, secret agent, sequel, mi6...</td>\n",
       "      <td>Spectre</td>\n",
       "      <td>107.376788</td>\n",
       "      <td>Columbia Pictures, Danjaq, B24</td>\n",
       "      <td>2015-10-26</td>\n",
       "      <td>8.806746e+08</td>\n",
       "      <td>148.0</td>\n",
       "      <td>6.3</td>\n",
       "      <td>4466</td>\n",
       "      <td>GB, US</td>\n",
       "      <td>fr, en, es, it, de</td>\n",
       "      <td>2015.0</td>\n",
       "      <td>10.0</td>\n",
       "      <td>26.0</td>\n",
       "      <td>8.806746e+08</td>\n",
       "    </tr>\n",
       "    <tr>\n",
       "      <th>91529</th>\n",
       "      <td>250000000</td>\n",
       "      <td>Action, Crime, Drama, Thriller</td>\n",
       "      <td>dc comics, crime fighter, terrorist, secret id...</td>\n",
       "      <td>The Dark Knight Rises</td>\n",
       "      <td>112.312950</td>\n",
       "      <td>Legendary Pictures, Warner Bros., DC Entertain...</td>\n",
       "      <td>2012-07-16</td>\n",
       "      <td>1.084939e+09</td>\n",
       "      <td>165.0</td>\n",
       "      <td>7.6</td>\n",
       "      <td>9106</td>\n",
       "      <td>US</td>\n",
       "      <td>en</td>\n",
       "      <td>2012.0</td>\n",
       "      <td>7.0</td>\n",
       "      <td>16.0</td>\n",
       "      <td>1.084939e+09</td>\n",
       "    </tr>\n",
       "    <tr>\n",
       "      <th>93363</th>\n",
       "      <td>260000000</td>\n",
       "      <td>Action, Adventure, Science Fiction</td>\n",
       "      <td>based on novel, mars, medallion, space travel,...</td>\n",
       "      <td>John Carter</td>\n",
       "      <td>43.926995</td>\n",
       "      <td>Walt Disney Pictures</td>\n",
       "      <td>2012-03-07</td>\n",
       "      <td>2.841391e+08</td>\n",
       "      <td>132.0</td>\n",
       "      <td>6.1</td>\n",
       "      <td>2124</td>\n",
       "      <td>US</td>\n",
       "      <td>en</td>\n",
       "      <td>2012.0</td>\n",
       "      <td>3.0</td>\n",
       "      <td>7.0</td>\n",
       "      <td>2.841391e+08</td>\n",
       "    </tr>\n",
       "  </tbody>\n",
       "</table>\n",
       "</div>"
      ],
      "text/plain": [
       "            budget                                       genres  \\\n",
       "movieId                                                           \n",
       "72998    237000000  Action, Adventure, Fantasy, Science Fiction   \n",
       "53125    300000000                   Adventure, Fantasy, Action   \n",
       "136020   245000000                     Action, Adventure, Crime   \n",
       "91529    250000000               Action, Crime, Drama, Thriller   \n",
       "93363    260000000           Action, Adventure, Science Fiction   \n",
       "\n",
       "                                                  keywords  \\\n",
       "movieId                                                      \n",
       "72998    culture clash, future, space war, space colony...   \n",
       "53125    ocean, drug abuse, exotic island, east india t...   \n",
       "136020   spy, based on novel, secret agent, sequel, mi6...   \n",
       "91529    dc comics, crime fighter, terrorist, secret id...   \n",
       "93363    based on novel, mars, medallion, space travel,...   \n",
       "\n",
       "                                   original_title  popularity  \\\n",
       "movieId                                                         \n",
       "72998                                      Avatar  150.437577   \n",
       "53125    Pirates of the Caribbean: At World's End  139.082615   \n",
       "136020                                    Spectre  107.376788   \n",
       "91529                       The Dark Knight Rises  112.312950   \n",
       "93363                                 John Carter   43.926995   \n",
       "\n",
       "                                      production_companies release_date  \\\n",
       "movieId                                                                   \n",
       "72998    Ingenious Film Partners, Twentieth Century Fox...   2009-12-10   \n",
       "53125    Walt Disney Pictures, Jerry Bruckheimer Films,...   2007-05-19   \n",
       "136020                      Columbia Pictures, Danjaq, B24   2015-10-26   \n",
       "91529    Legendary Pictures, Warner Bros., DC Entertain...   2012-07-16   \n",
       "93363                                 Walt Disney Pictures   2012-03-07   \n",
       "\n",
       "              revenue  runtime  vote_average  vote_count production_ISO  \\\n",
       "movieId                                                                   \n",
       "72998    2.787965e+09    162.0           7.2       11800         US, GB   \n",
       "53125    9.610000e+08    169.0           6.9        4500             US   \n",
       "136020   8.806746e+08    148.0           6.3        4466         GB, US   \n",
       "91529    1.084939e+09    165.0           7.6        9106             US   \n",
       "93363    2.841391e+08    132.0           6.1        2124             US   \n",
       "\n",
       "                 spoken_ISO  release_year  release_month  release_day  \\\n",
       "movieId                                                                 \n",
       "72998                en, es        2009.0           12.0         10.0   \n",
       "53125                    en        2007.0            5.0         19.0   \n",
       "136020   fr, en, es, it, de        2015.0           10.0         26.0   \n",
       "91529                    en        2012.0            7.0         16.0   \n",
       "93363                    en        2012.0            3.0          7.0   \n",
       "\n",
       "         revenue_imputed  \n",
       "movieId                   \n",
       "72998       2.787965e+09  \n",
       "53125       9.610000e+08  \n",
       "136020      8.806746e+08  \n",
       "91529       1.084939e+09  \n",
       "93363       2.841391e+08  "
      ]
     },
     "execution_count": 8,
     "metadata": {},
     "output_type": "execute_result"
    }
   ],
   "source": [
    "clean_movies.head()"
   ]
  },
  {
   "cell_type": "code",
   "execution_count": 9,
   "metadata": {},
   "outputs": [],
   "source": [
    "clean_movies.to_csv('clean_movies_id_appended.csv')"
   ]
  },
  {
   "cell_type": "markdown",
   "metadata": {},
   "source": [
    "Importing clean movie data"
   ]
  },
  {
   "cell_type": "code",
   "execution_count": 11,
   "metadata": {},
   "outputs": [],
   "source": [
    "movies = pd.read_csv('clean_movies_id_appended.csv')"
   ]
  },
  {
   "cell_type": "markdown",
   "metadata": {},
   "source": [
    "Dropping unecessary columns and filling null values"
   ]
  },
  {
   "cell_type": "code",
   "execution_count": 13,
   "metadata": {},
   "outputs": [],
   "source": [
    "movies = movies.drop(columns = ['revenue', 'release_date', 'release_day'])\n",
    "\n",
    "movies[['revenue_imputed', 'vote_average']] = movies[['revenue_imputed', 'vote_average']].fillna(0)\n",
    "movies[['genres', 'keywords', 'production_companies', 'production_ISO', 'spoken_ISO']] = \\\n",
    "    movies[['genres', 'keywords', 'production_companies', 'production_ISO', 'spoken_ISO']].fillna('Unknown')\n"
   ]
  },
  {
   "cell_type": "markdown",
   "metadata": {},
   "source": [
    "Creating lists from strings"
   ]
  },
  {
   "cell_type": "code",
   "execution_count": 15,
   "metadata": {},
   "outputs": [],
   "source": [
    "def parse_list(column):\n",
    "    return column.split(', ') if isinstance(column, str) else []\n",
    "\n",
    "movies['genres'] = movies['genres'].apply(parse_list)\n",
    "movies['keywords'] = movies['keywords'].apply(parse_list)\n",
    "movies['production_companies'] = movies['production_companies'].apply(parse_list)\n",
    "movies['production_ISO'] = movies['production_ISO'].apply(parse_list)\n",
    "movies['spoken_ISO'] = movies['spoken_ISO'].apply(parse_list)"
   ]
  },
  {
   "cell_type": "markdown",
   "metadata": {},
   "source": [
    "Converting release year into numerical feature and grouping release month into seasons"
   ]
  },
  {
   "cell_type": "code",
   "execution_count": 17,
   "metadata": {},
   "outputs": [],
   "source": [
    "movies['years_since_1924'] = movies['release_year'] - movies['release_year'].min()\n",
    "\n",
    "movies.drop(columns = ['release_year'], inplace= True)\n",
    "\n",
    "movies['winter_release'] = movies['release_month'].isin([12, 1, 2]).astype(int)\n",
    "movies['spring_release'] = movies['release_month'].isin([3,4,5]).astype(int)\n",
    "movies['summer_release'] = movies['release_month'].isin([6,7,8]).astype(int)\n",
    "movies['fall_release'] = movies['release_month'].isin([9,10,11]).astype(int)\n",
    "\n",
    "movies.drop(columns= ['release_month'], inplace= True)"
   ]
  },
  {
   "cell_type": "markdown",
   "metadata": {},
   "source": [
    "Standardizing all numeric features"
   ]
  },
  {
   "cell_type": "code",
   "execution_count": 19,
   "metadata": {},
   "outputs": [],
   "source": [
    "numeric_cols = ['budget', 'popularity', 'runtime', 'vote_average', 'vote_count', 'revenue_imputed', 'years_since_1924']\n",
    "\n",
    "scaler = StandardScaler()\n",
    "movies[numeric_cols] = scaler.fit_transform(movies[numeric_cols])"
   ]
  },
  {
   "cell_type": "markdown",
   "metadata": {},
   "source": [
    "Converting genre into dummy variables"
   ]
  },
  {
   "cell_type": "code",
   "execution_count": 21,
   "metadata": {},
   "outputs": [],
   "source": [
    "mlb = MultiLabelBinarizer()\n",
    "genre_df = pd.DataFrame(mlb.fit_transform(movies['genres']), columns = mlb.classes_)\n",
    "\n",
    "movies = pd.concat([movies,genre_df], axis = 1)\n",
    "\n",
    "movies.drop(columns = ['genres'], inplace= True)\n",
    "movies.drop(columns = 'Unknown', inplace= True) #This was created when filling null values"
   ]
  },
  {
   "cell_type": "markdown",
   "metadata": {},
   "source": [
    "Creating binary features out of spoken ISO and production ISO to represent english language and us production"
   ]
  },
  {
   "cell_type": "code",
   "execution_count": 23,
   "metadata": {},
   "outputs": [],
   "source": [
    "movies['is_english'] = movies['spoken_ISO'].apply(lambda x: 1 if 'en' in x else 0)\n",
    "movies['is_us_production'] = movies['production_ISO'].apply(lambda x: 1 if 'US' in x else 0)\n",
    "\n",
    "movies.drop(columns=['spoken_ISO', 'production_ISO'], inplace=True)"
   ]
  },
  {
   "cell_type": "markdown",
   "metadata": {},
   "source": [
    "Creating a binary feature if a movie was produced by a major studio"
   ]
  },
  {
   "cell_type": "code",
   "execution_count": 25,
   "metadata": {},
   "outputs": [],
   "source": [
    "major_studios = {'Walt Disney Pictures', 'Warner Bros.', 'Paramount Pictures', 'Universal Pictures', 'Marvel Studios',\n",
    "                  'Twentieth Century Fox Film Corporation', 'Touchstone Pictures', 'New Line Cinema', 'Metro-Goldwyn-Mayer (MGM)', 'Columbia Pictures'}\n",
    "\n",
    "movies['is_major_studio'] = movies['production_companies'].apply(lambda x: 1 if any(studio in major_studios for studio in x) else 0)\n",
    "\n",
    "movies.drop(columns=['production_companies'], inplace=True)"
   ]
  },
  {
   "cell_type": "markdown",
   "metadata": {},
   "source": [
    "Storing movie titles and ids in a separate dataframe for later"
   ]
  },
  {
   "cell_type": "code",
   "execution_count": 27,
   "metadata": {},
   "outputs": [],
   "source": [
    "movies_titles = movies[['movieId', 'original_title']]\n",
    "movies_titles = movies_titles.set_index('movieId')"
   ]
  },
  {
   "cell_type": "markdown",
   "metadata": {},
   "source": [
    "Dropping keywords column (Can't get good results with them included) also dropping movie title"
   ]
  },
  {
   "cell_type": "code",
   "execution_count": 29,
   "metadata": {},
   "outputs": [],
   "source": [
    "movies = movies.drop(columns= ['keywords','original_title'])\n",
    "movies = movies.set_index('movieId')"
   ]
  },
  {
   "cell_type": "markdown",
   "metadata": {},
   "source": [
    "Results"
   ]
  },
  {
   "cell_type": "code",
   "execution_count": 31,
   "metadata": {},
   "outputs": [
    {
     "data": {
      "text/html": [
       "<div>\n",
       "<style scoped>\n",
       "    .dataframe tbody tr th:only-of-type {\n",
       "        vertical-align: middle;\n",
       "    }\n",
       "\n",
       "    .dataframe tbody tr th {\n",
       "        vertical-align: top;\n",
       "    }\n",
       "\n",
       "    .dataframe thead th {\n",
       "        text-align: right;\n",
       "    }\n",
       "</style>\n",
       "<table border=\"1\" class=\"dataframe\">\n",
       "  <thead>\n",
       "    <tr style=\"text-align: right;\">\n",
       "      <th></th>\n",
       "      <th>budget</th>\n",
       "      <th>popularity</th>\n",
       "      <th>runtime</th>\n",
       "      <th>vote_average</th>\n",
       "      <th>vote_count</th>\n",
       "      <th>revenue_imputed</th>\n",
       "      <th>years_since_1924</th>\n",
       "      <th>winter_release</th>\n",
       "      <th>spring_release</th>\n",
       "      <th>summer_release</th>\n",
       "      <th>...</th>\n",
       "      <th>Mystery</th>\n",
       "      <th>Romance</th>\n",
       "      <th>Science Fiction</th>\n",
       "      <th>TV Movie</th>\n",
       "      <th>Thriller</th>\n",
       "      <th>War</th>\n",
       "      <th>Western</th>\n",
       "      <th>is_english</th>\n",
       "      <th>is_us_production</th>\n",
       "      <th>is_major_studio</th>\n",
       "    </tr>\n",
       "    <tr>\n",
       "      <th>movieId</th>\n",
       "      <th></th>\n",
       "      <th></th>\n",
       "      <th></th>\n",
       "      <th></th>\n",
       "      <th></th>\n",
       "      <th></th>\n",
       "      <th></th>\n",
       "      <th></th>\n",
       "      <th></th>\n",
       "      <th></th>\n",
       "      <th></th>\n",
       "      <th></th>\n",
       "      <th></th>\n",
       "      <th></th>\n",
       "      <th></th>\n",
       "      <th></th>\n",
       "      <th></th>\n",
       "      <th></th>\n",
       "      <th></th>\n",
       "      <th></th>\n",
       "      <th></th>\n",
       "    </tr>\n",
       "  </thead>\n",
       "  <tbody>\n",
       "    <tr>\n",
       "      <th>72998</th>\n",
       "      <td>4.896324</td>\n",
       "      <td>3.860689</td>\n",
       "      <td>2.527255</td>\n",
       "      <td>1.048134</td>\n",
       "      <td>8.682977</td>\n",
       "      <td>16.440738</td>\n",
       "      <td>0.548730</td>\n",
       "      <td>1</td>\n",
       "      <td>0</td>\n",
       "      <td>0</td>\n",
       "      <td>...</td>\n",
       "      <td>0</td>\n",
       "      <td>0</td>\n",
       "      <td>1</td>\n",
       "      <td>0</td>\n",
       "      <td>0</td>\n",
       "      <td>0</td>\n",
       "      <td>0</td>\n",
       "      <td>1</td>\n",
       "      <td>1</td>\n",
       "      <td>1</td>\n",
       "    </tr>\n",
       "    <tr>\n",
       "      <th>53125</th>\n",
       "      <td>6.396770</td>\n",
       "      <td>3.517034</td>\n",
       "      <td>2.853264</td>\n",
       "      <td>0.747886</td>\n",
       "      <td>2.952553</td>\n",
       "      <td>5.274557</td>\n",
       "      <td>0.389531</td>\n",
       "      <td>0</td>\n",
       "      <td>1</td>\n",
       "      <td>0</td>\n",
       "      <td>...</td>\n",
       "      <td>0</td>\n",
       "      <td>0</td>\n",
       "      <td>0</td>\n",
       "      <td>0</td>\n",
       "      <td>0</td>\n",
       "      <td>0</td>\n",
       "      <td>0</td>\n",
       "      <td>1</td>\n",
       "      <td>1</td>\n",
       "      <td>1</td>\n",
       "    </tr>\n",
       "    <tr>\n",
       "      <th>136020</th>\n",
       "      <td>5.086857</td>\n",
       "      <td>2.557466</td>\n",
       "      <td>1.875237</td>\n",
       "      <td>0.147391</td>\n",
       "      <td>2.925863</td>\n",
       "      <td>4.783618</td>\n",
       "      <td>1.026327</td>\n",
       "      <td>0</td>\n",
       "      <td>0</td>\n",
       "      <td>0</td>\n",
       "      <td>...</td>\n",
       "      <td>0</td>\n",
       "      <td>0</td>\n",
       "      <td>0</td>\n",
       "      <td>0</td>\n",
       "      <td>0</td>\n",
       "      <td>0</td>\n",
       "      <td>0</td>\n",
       "      <td>1</td>\n",
       "      <td>1</td>\n",
       "      <td>1</td>\n",
       "    </tr>\n",
       "    <tr>\n",
       "      <th>91529</th>\n",
       "      <td>5.205940</td>\n",
       "      <td>2.706858</td>\n",
       "      <td>2.666973</td>\n",
       "      <td>1.448464</td>\n",
       "      <td>6.568215</td>\n",
       "      <td>6.032057</td>\n",
       "      <td>0.787529</td>\n",
       "      <td>0</td>\n",
       "      <td>0</td>\n",
       "      <td>1</td>\n",
       "      <td>...</td>\n",
       "      <td>0</td>\n",
       "      <td>0</td>\n",
       "      <td>0</td>\n",
       "      <td>0</td>\n",
       "      <td>1</td>\n",
       "      <td>0</td>\n",
       "      <td>0</td>\n",
       "      <td>1</td>\n",
       "      <td>1</td>\n",
       "      <td>1</td>\n",
       "    </tr>\n",
       "    <tr>\n",
       "      <th>93363</th>\n",
       "      <td>5.444106</td>\n",
       "      <td>0.637175</td>\n",
       "      <td>1.130074</td>\n",
       "      <td>-0.052774</td>\n",
       "      <td>1.087417</td>\n",
       "      <td>1.137668</td>\n",
       "      <td>0.787529</td>\n",
       "      <td>0</td>\n",
       "      <td>1</td>\n",
       "      <td>0</td>\n",
       "      <td>...</td>\n",
       "      <td>0</td>\n",
       "      <td>0</td>\n",
       "      <td>1</td>\n",
       "      <td>0</td>\n",
       "      <td>0</td>\n",
       "      <td>0</td>\n",
       "      <td>0</td>\n",
       "      <td>1</td>\n",
       "      <td>1</td>\n",
       "      <td>1</td>\n",
       "    </tr>\n",
       "  </tbody>\n",
       "</table>\n",
       "<p>5 rows × 34 columns</p>\n",
       "</div>"
      ],
      "text/plain": [
       "           budget  popularity   runtime  vote_average  vote_count  \\\n",
       "movieId                                                             \n",
       "72998    4.896324    3.860689  2.527255      1.048134    8.682977   \n",
       "53125    6.396770    3.517034  2.853264      0.747886    2.952553   \n",
       "136020   5.086857    2.557466  1.875237      0.147391    2.925863   \n",
       "91529    5.205940    2.706858  2.666973      1.448464    6.568215   \n",
       "93363    5.444106    0.637175  1.130074     -0.052774    1.087417   \n",
       "\n",
       "         revenue_imputed  years_since_1924  winter_release  spring_release  \\\n",
       "movieId                                                                      \n",
       "72998          16.440738          0.548730               1               0   \n",
       "53125           5.274557          0.389531               0               1   \n",
       "136020          4.783618          1.026327               0               0   \n",
       "91529           6.032057          0.787529               0               0   \n",
       "93363           1.137668          0.787529               0               1   \n",
       "\n",
       "         summer_release  ...  Mystery  Romance  Science Fiction  TV Movie  \\\n",
       "movieId                  ...                                                \n",
       "72998                 0  ...        0        0                1         0   \n",
       "53125                 0  ...        0        0                0         0   \n",
       "136020                0  ...        0        0                0         0   \n",
       "91529                 1  ...        0        0                0         0   \n",
       "93363                 0  ...        0        0                1         0   \n",
       "\n",
       "         Thriller  War  Western  is_english  is_us_production  is_major_studio  \n",
       "movieId                                                                         \n",
       "72998           0    0        0           1                 1                1  \n",
       "53125           0    0        0           1                 1                1  \n",
       "136020          0    0        0           1                 1                1  \n",
       "91529           1    0        0           1                 1                1  \n",
       "93363           0    0        0           1                 1                1  \n",
       "\n",
       "[5 rows x 34 columns]"
      ]
     },
     "execution_count": 31,
     "metadata": {},
     "output_type": "execute_result"
    }
   ],
   "source": [
    "movies.head()"
   ]
  },
  {
   "cell_type": "code",
   "execution_count": 32,
   "metadata": {},
   "outputs": [],
   "source": [
    "movies.to_csv('movies_preprocessed.csv')"
   ]
  },
  {
   "cell_type": "markdown",
   "metadata": {},
   "source": [
    "Prepping the User Reviews"
   ]
  },
  {
   "cell_type": "markdown",
   "metadata": {},
   "source": [
    "Filtering user ratings to only include movies in our data"
   ]
  },
  {
   "cell_type": "code",
   "execution_count": 35,
   "metadata": {},
   "outputs": [
    {
     "data": {
      "text/plain": [
       "(15877021, 3)"
      ]
     },
     "execution_count": 35,
     "metadata": {},
     "output_type": "execute_result"
    }
   ],
   "source": [
    "ratings = pd.read_csv('ratings.csv')\n",
    "\n",
    "valid_movie_ids = set(clean_movies.index)\n",
    "\n",
    "filtered_ratings = ratings[ratings['movieId'].isin(valid_movie_ids)]\n",
    "\n",
    "filtered_ratings = filtered_ratings.drop(columns='timestamp')\n",
    "\n",
    "filtered_ratings.shape"
   ]
  },
  {
   "cell_type": "markdown",
   "metadata": {},
   "source": [
    "Only including users with over 200 reviews"
   ]
  },
  {
   "cell_type": "code",
   "execution_count": 37,
   "metadata": {},
   "outputs": [],
   "source": [
    "user_review_counts = filtered_ratings['userId'].value_counts()\n",
    "movie_review_counts = filtered_ratings['movieId'].value_counts()\n",
    "\n",
    "min_reviews = 200\n",
    "\n",
    "active_users = user_review_counts[user_review_counts >= min_reviews].index\n",
    "\n",
    "filtered_ratings = filtered_ratings[filtered_ratings['userId'].isin(active_users)]"
   ]
  },
  {
   "cell_type": "markdown",
   "metadata": {},
   "source": [
    "Number of unique users"
   ]
  },
  {
   "cell_type": "code",
   "execution_count": 39,
   "metadata": {},
   "outputs": [
    {
     "data": {
      "text/plain": [
       "19999"
      ]
     },
     "execution_count": 39,
     "metadata": {},
     "output_type": "execute_result"
    }
   ],
   "source": [
    "filtered_ratings['userId'].nunique()"
   ]
  },
  {
   "cell_type": "code",
   "execution_count": 40,
   "metadata": {},
   "outputs": [],
   "source": [
    "filtered_ratings.to_csv('user_reviews_200moviesplus.csv', index = False)"
   ]
  }
 ],
 "metadata": {
  "kernelspec": {
   "display_name": "Python [conda env:base] *",
   "language": "python",
   "name": "conda-base-py"
  },
  "language_info": {
   "codemirror_mode": {
    "name": "ipython",
    "version": 3
   },
   "file_extension": ".py",
   "mimetype": "text/x-python",
   "name": "python",
   "nbconvert_exporter": "python",
   "pygments_lexer": "ipython3",
   "version": "3.12.7"
  }
 },
 "nbformat": 4,
 "nbformat_minor": 4
}
